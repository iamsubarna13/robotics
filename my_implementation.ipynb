{
 "cells": [
  {
   "cell_type": "markdown",
   "id": "f8b3d25e-b94b-4aee-ac2d-869791a49c4d",
   "metadata": {},
   "source": [
    "The dynamics are given by\n",
    "\n",
    "$$\\begin{align}\\ddot{\\mathbf{r}} &= \\begin{bmatrix}0\\\\0\\\\-g\\end{bmatrix} + \\mathbf{R} \\begin{bmatrix}0\\\\0\\\\\\frac{F_{tot}}{m}\\end{bmatrix}\\\\ \\dot{\\omega}_{BW} &= \\mathbf{I}^{-1} \\left(-\\omega_{BW} \\times \\mathbf{I} \\omega_{BW} + \\begin{bmatrix}M_1\\\\ M_2\\\\ M_3\\end{bmatrix}\\right)\\end{align}$$\n",
    "\n",
    "where $\\mathbf{r}$ is the position in the world frame of the center of mass of the quadrotor, i.e.\n",
    "\n",
    "$$\\mathbf{r} = \\begin{bmatrix}x\\\\ y\\\\ z\\end{bmatrix}$$\n",
    "\n",
    "the rotation matrix $\\mathbf{R}$ maps from the body frame to the world frame following the Space 1-2-3 convention, that is\n",
    "\n",
    "$$\\mathbf{R} = \\begin{bmatrix}\\cos(\\theta)\\cos(\\psi) & \\sin(\\phi)\\sin(\\theta)\\cos(\\psi) - \\sin(\\psi)\\cos(\\phi) & \\cos(\\phi)\\sin(\\theta)\\cos(\\psi) + \\sin(\\psi)\\sin(\\phi)\\\\\n",
    "\\cos(\\theta)\\sin(\\psi) & \\sin(\\phi)\\sin(\\theta)\\cos(\\psi) + \\cos(\\psi)\\cos(\\phi) & \\cos(\\phi)\\sin(\\phi)\\sin(\\psi) - \\cos(\\theta)\\sin(\\phi)\\\\\n",
    "-\\sin(\\theta) & \\sin(\\phi)\\cos(\\theta) & \\cos(\\phi)\\cos(\\theta)\\end{bmatrix}$$\n",
    "\n",
    "and \n",
    "\n",
    "$$\\omega_{BW} = \\begin{bmatrix}p\\\\ q\\\\ r\\end{bmatrix}$$\n",
    "\n",
    "is the angular velocity of the body frame in the world frame, which is related to the rate of change of the Euler angles by\n",
    "\n",
    "$$\\begin{bmatrix}\\dot{\\phi}\\\\ \\dot{\\theta}\\\\ \\dot{\\psi}\\end{bmatrix} = \\begin{bmatrix}1 & \\sin(\\phi)\\tan(\\theta) & \\cos(\\phi)\\tan(\\theta)\\\\\n",
    "         0 & \\cos(\\phi) & -\\sin(\\phi)\\\\\n",
    "         0 & \\frac{\\sin(\\phi)}{\\cos(\\theta)} & \\frac{\\cos(\\phi)}{\\cos(\\theta)}\n",
    "        \\end{bmatrix}\\begin{bmatrix}p\\\\ q\\\\ r\\end{bmatrix}$$\n",
    "\n",
    "In addition to the hover state and input, the following values for the physical parameters of the system are substituted:\n",
    "\n",
    "- $m = 0.03kg$\n",
    "- $g = 9.81 \\frac{m}{s^2}$\n",
    "- $I_{xx} = 1.4194e-05$\n",
    "- $I_{yy} = 1.4089e-05$\n",
    "- $I_{zz} = 2.9741e-05$\n",
    "\n",
    "Note the full state of the system $\\mathbf{x}$ and system inputs $\\mathbf{u}$ are the variables, in order,\n",
    "\n",
    "$$\\begin{align}\\mathbf{x} = \\begin{bmatrix}x\\\\ y\\\\ z\\\\ \\phi\\\\ \\theta\\\\ \\psi\\\\ \\dot{x}\\\\ \\dot{y}\\\\ \\dot{z}\\\\ p\\\\ q\\\\ r\\end{bmatrix} & & \\mathbf{u} = \\begin{bmatrix}F_{tot}\\\\ M_1\\\\ M_2\\\\ M_3\\end{bmatrix}\\end{align}$$\n",
    "\n",
    "and the hover state for this system that we are linearizing about is:\n",
    "\n",
    "$$\\begin{align}\\mathbf{x} = \\mathbf{0} & & \\mathbf{u} = \\begin{bmatrix}mg\\\\ 0\\\\ 0\\\\ 0\\end{bmatrix}\\end{align}$$"
   ]
  },
  {
   "cell_type": "code",
   "execution_count": 1,
   "id": "9f9c6249-c380-4011-94b6-3341c282dbc1",
   "metadata": {},
   "outputs": [],
   "source": [
    "import sympy as sp\n",
    "import numpy as np\n",
    "from sympy.physics.vector import dynamicsymbols as dynamicsymbols\n",
    "from sympy import cos,sin,tan\n",
    "from scipy.linalg import solve_continuous_are"
   ]
  },
  {
   "cell_type": "code",
   "execution_count": 2,
   "id": "deaf8ec8-2580-4bb9-9ba2-3a8106417ef2",
   "metadata": {},
   "outputs": [],
   "source": [
    "def initialize_quadrotor(Q, R):\n",
    "    \n",
    "    m,g,Ixx,Iyy,Izz,t=sp.symbols('m g Ixx Iyy Izz t')\n",
    "    u1,u2,u3,u4=sp.symbols('u1 u2 u3 u4')\n",
    "    x,y,z,phi,theta,psi=dynamicsymbols('x y z phi theta psi')\n",
    "    \n",
    "    x_dot=sp.diff(x,t)\n",
    "    y_dot=sp.diff(y,t)\n",
    "    z_dot=sp.diff(z,t)\n",
    "    phi_dot=sp.diff(phi,t)\n",
    "    theta_dot=sp.diff(theta,t)\n",
    "    psi_dot=sp.diff(psi,t)\n",
    "    \n",
    "    p,q,r=dynamicsymbols('p q r')\n",
    "    omega=sp.Matrix([p,q,r])\n",
    "    conv=sp.Matrix([[1,sin(phi)*tan(theta),cos(phi)*tan(theta)],\n",
    "                    [0,cos(phi),-sin(phi)],\n",
    "                    [0,sin(phi)/cos(theta),cos(phi)/cos(theta)]])\n",
    "    euler_dot=conv*omega\n",
    "    \n",
    "    rotation_matrix=sp.Matrix([[cos(theta)*cos(psi),sin(phi)*sin(theta)*cos(psi)-sin(psi)*cos(phi),cos(phi)*sin(theta)*cos(psi)+sin(psi)*sin(phi)],\n",
    "                               [cos(theta)*sin(psi),sin(phi)*sin(theta)*cos(psi)+cos(psi)*cos(phi),cos(phi)*sin(phi)*sin(psi)-cos(theta)*sin(phi)],\n",
    "                               [-sin(theta),sin(phi)*cos(theta),cos(phi)*cos(theta)]])\n",
    "    acceleration=sp.Matrix([0,0,-g])+rotation_matrix*sp.Matrix([0,0,u1/m])\n",
    "    \n",
    "    I=sp.Matrix([[Ixx,0,0],[0,Iyy,0],[0,0,Izz]])\n",
    "    omega_dot=(I.inv())*(-omega.cross(I*omega)+sp.Matrix([u2,u3,u4]))\n",
    "    \n",
    "    state=sp.Matrix([x,y,z,phi,theta,psi,x_dot,y_dot,z_dot,p,q,r])\n",
    "    input=sp.Matrix([u1,u2,u3,u4])\n",
    "    dynamics=sp.Matrix([x_dot,y_dot,z_dot,euler_dot,acceleration,omega_dot])\n",
    "    \n",
    "    A=dynamics.jacobian(state)\n",
    "    B=dynamics.jacobian(input)\n",
    "    \n",
    "    K = lqr_controller(A, B, Q, R)\n",
    "\n",
    "    return A, B, K"
   ]
  },
  {
   "cell_type": "code",
   "execution_count": 3,
   "id": "f0a3bb72-dd58-4efb-b82b-cc72c82b8149",
   "metadata": {},
   "outputs": [],
   "source": [
    "def lqr_controller(A, B, Q, R):\n",
    "    fixed_point = [0, 0, 0, 0, 0, 0, 0, 0, 0, 0, 0, 0]\n",
    "    fixed_point_input = [m * g, 0, 0, 0]\n",
    "\n",
    "    # Convert symbolic expressions to numerical values\n",
    "    A_arr = np.array(A.subs([(x, fixed_point[0]), (y, fixed_point[1]), (z, fixed_point[2]),\n",
    "                             (phi, fixed_point[3]), (theta, fixed_point[4]), (psi, fixed_point[5]),\n",
    "                             (x_dot, fixed_point[6]), (y_dot, fixed_point[7]), (z_dot, fixed_point[8]),\n",
    "                             (p, fixed_point[9]), (q, fixed_point[10]), (r, fixed_point[11]),\n",
    "                             (u1, fixed_point_input[0]), (u2, fixed_point_input[1]), (u3, fixed_point_input[2]),\n",
    "                             (u4, fixed_point_input[3]), (m, 0.03), (g, 9.81),\n",
    "                             (Ixx, 1.4194 * (10 ** -5)), (Iyy, 1.4089 * (10 ** -5)), (Izz, 2.9741 * (10 ** -5))]))\n",
    "\n",
    "    B_arr = np.array(B.subs([(x, fixed_point[0]), (y, fixed_point[1]), (z, fixed_point[2]),\n",
    "                             (phi, fixed_point[3]), (theta, fixed_point[4]), (psi, fixed_point[5]),\n",
    "                             (x_dot, fixed_point[6]), (y_dot, fixed_point[7]), (z_dot, fixed_point[8]),\n",
    "                             (p, fixed_point[9]), (q, fixed_point[10]), (r, fixed_point[11]),\n",
    "                             (u1, fixed_point_input[0]), (u2, fixed_point_input[1]), (u3, fixed_point_input[2]),\n",
    "                             (u4, fixed_point_input[3]), (m, 0.03), (g, 9.81),\n",
    "                             (Ixx, 1.4194 * (10 ** -5)), (Iyy, 1.4089 * (10 ** -5)), (Izz, 2.9741 * (10 ** -5))]))\n",
    "\n",
    "    # Compute control gains using LQR\n",
    "    K = solve_continuous_are(A_arr, B_arr, Q, R)\n",
    "\n",
    "    return K"
   ]
  },
  {
   "cell_type": "code",
   "execution_count": 4,
   "id": "f3abb9ad-4c7e-4539-9fa1-7c9d0f50da34",
   "metadata": {},
   "outputs": [],
   "source": [
    "def update_dynamics(A,B,current_state,control_imput):\n",
    "    \n",
    "        A_arr=A.subs([(x,present_state[0]),(y,present_state[1]),(z,present_state[2]),\n",
    "            (phi,present_state[3]),(theta,present_state[4]),(psi,present_state[5]),\n",
    "            (x_dot,present_state[6]),(y_dot,present_state[7]),(z_dot,present_state[8]),\n",
    "            (p,present_state[9]),(q,present_state[10]),(r,present_state[11]),\n",
    "            (u1,control_input[0]),(u2,control_input[1]),(u3,control_input[2]),(u4,control_input[3]),\n",
    "            (m,0.03),(g,9.81),(Ixx,1.4194*(10**-5)),(Iyy,1.4089*(10**-5)),(Izz,2.9741*(10**-5))])\n",
    "        \n",
    "        B_arr=B.subs([(x,present_state[0]),(y,present_state[1]),(z,present_state[2]),\n",
    "            (phi,present_state[3]),(theta,present_state[4]),(psi,present_state[5]),\n",
    "            (x_dot,present_state[6]),(y_dot,present_state[7]),(z_dot,present_state[8]),\n",
    "            (p,present_state[9]),(q,present_state[10]),(r,present_state[11]),\n",
    "            (u1,control_input[0]),(u2,control_input[1]),(u3,control_input[2]),(u4,control_input[3]),\n",
    "            (m,0.03),(g,9.81),(Ixx,1.4194*(10**-5)),(Iyy,1.4089*(10**-5)),(Izz,2.9741*(10**-5))])\n",
    "        \n",
    "        return A_arr,B_arr"
   ]
  },
  {
   "cell_type": "code",
   "execution_count": 5,
   "id": "4a12a2d0-e57d-41b8-a133-4e497875def6",
   "metadata": {},
   "outputs": [],
   "source": [
    "def simulate_quadrotor(A, B, K, duration, dt):\n",
    "    \n",
    "    # Initial state\n",
    "    initial_state = np.array([0.0, 0.0, 0.0, 0.0, 0.0, 0.0]) \n",
    "\n",
    "    # Initialize lists to store the trajectory and control inputs\n",
    "    trajectory = [initial_state]\n",
    "    control_inputs = []\n",
    "\n",
    "    # Simulation loop\n",
    "    t = 0.0\n",
    "    while t < duration:\n",
    "        # Get the current state\n",
    "        current_state = trajectory[-1]\n",
    "\n",
    "        # Compute the control input using the LQR controller\n",
    "        control_input = -np.dot(K, current_state)\n",
    "\n",
    "        # Store the control input\n",
    "        control_inputs.append(control_input)\n",
    "\n",
    "        # Update the state using quadrotor dynamics\n",
    "        new_state = update_dynamics(A,B,current_state, control_input)\n",
    "\n",
    "        # Append the new state to the trajectory\n",
    "        trajectory.append(new_state)\n",
    "\n",
    "        # Update the time\n",
    "        t += dt\n",
    "\n",
    "    return np.array(trajectory), np.array(control_inputs)"
   ]
  },
  {
   "cell_type": "code",
   "execution_count": 6,
   "id": "967274e3-a439-44c8-be03-9413e0af7f05",
   "metadata": {},
   "outputs": [],
   "source": [
    "m,g,Ixx,Iyy,Izz,t=sp.symbols('m g Ixx Iyy Izz t')\n",
    "u1,u2,u3,u4=sp.symbols('u1 u2 u3 u4')\n",
    "x,y,z,phi,theta,psi=dynamicsymbols('x y z phi theta psi')"
   ]
  },
  {
   "cell_type": "code",
   "execution_count": 7,
   "id": "5ad882aa-8eff-4ec1-b70a-d9944389ab53",
   "metadata": {},
   "outputs": [],
   "source": [
    "x_dot=sp.diff(x,t)\n",
    "y_dot=sp.diff(y,t)\n",
    "z_dot=sp.diff(z,t)\n",
    "phi_dot=sp.diff(phi,t)\n",
    "theta_dot=sp.diff(theta,t)\n",
    "psi_dot=sp.diff(psi,t)"
   ]
  },
  {
   "cell_type": "code",
   "execution_count": 8,
   "id": "a37822c5-dbf2-4e74-8487-7ab8a3965507",
   "metadata": {},
   "outputs": [
    {
     "name": "stdout",
     "output_type": "stream",
     "text": [
      "Matrix([[p(t) + q(t)*sin(phi(t))*tan(theta(t)) + r(t)*cos(phi(t))*tan(theta(t))], [q(t)*cos(phi(t)) - r(t)*sin(phi(t))], [q(t)*sin(phi(t))/cos(theta(t)) + r(t)*cos(phi(t))/cos(theta(t))]])\n"
     ]
    }
   ],
   "source": [
    "p,q,r=dynamicsymbols('p q r')\n",
    "omega=sp.Matrix([p,q,r])\n",
    "conv=sp.Matrix([[1,sin(phi)*tan(theta),cos(phi)*tan(theta)],\n",
    "                [0,cos(phi),-sin(phi)],\n",
    "                [0,sin(phi)/cos(theta),cos(phi)/cos(theta)]])\n",
    "euler_dot=conv*omega\n",
    "print(euler_dot)"
   ]
  },
  {
   "cell_type": "code",
   "execution_count": 9,
   "id": "45e1d30d-ef5f-40a8-8d6d-728fab20e146",
   "metadata": {},
   "outputs": [
    {
     "name": "stdout",
     "output_type": "stream",
     "text": [
      "Matrix([[u1*(sin(phi(t))*sin(psi(t)) + sin(theta(t))*cos(phi(t))*cos(psi(t)))/m], [u1*(sin(phi(t))*sin(psi(t))*cos(phi(t)) - sin(phi(t))*cos(theta(t)))/m], [-g + u1*cos(phi(t))*cos(theta(t))/m]])\n"
     ]
    }
   ],
   "source": [
    "rotation_matrix=sp.Matrix([[cos(theta)*cos(psi),sin(phi)*sin(theta)*cos(psi)-sin(psi)*cos(phi),cos(phi)*sin(theta)*cos(psi)+sin(psi)*sin(phi)],\n",
    "                           [cos(theta)*sin(psi),sin(phi)*sin(theta)*cos(psi)+cos(psi)*cos(phi),cos(phi)*sin(phi)*sin(psi)-cos(theta)*sin(phi)],\n",
    "                           [-sin(theta),sin(phi)*cos(theta),cos(phi)*cos(theta)]])\n",
    "acceleration=sp.Matrix([0,0,-g])+rotation_matrix*sp.Matrix([0,0,u1/m])\n",
    "print(acceleration)"
   ]
  },
  {
   "cell_type": "code",
   "execution_count": 10,
   "id": "d3cef7b9-bc1b-4c27-b25e-ef4e87cc4b48",
   "metadata": {},
   "outputs": [],
   "source": [
    "I=sp.Matrix([[Ixx,0,0],[0,Iyy,0],[0,0,Izz]])\n",
    "omega_dot=(I.inv())*(-omega.cross(I*omega)+sp.Matrix([u2,u3,u4]))"
   ]
  },
  {
   "cell_type": "code",
   "execution_count": 11,
   "id": "b7346d54-58e0-4367-9b6c-5265255c8064",
   "metadata": {},
   "outputs": [],
   "source": [
    "state=sp.Matrix([x,y,z,phi,theta,psi,x_dot,y_dot,z_dot,p,q,r])\n",
    "input=sp.Matrix([u1,u2,u3,u4])\n",
    "dynamics=sp.Matrix([x_dot,y_dot,z_dot,euler_dot,acceleration,omega_dot])"
   ]
  },
  {
   "cell_type": "code",
   "execution_count": 12,
   "id": "b15d42c1-bc9c-45a2-805b-e77256448b67",
   "metadata": {},
   "outputs": [],
   "source": [
    "A=dynamics.jacobian(state)\n",
    "B=dynamics.jacobian(input)"
   ]
  },
  {
   "cell_type": "code",
   "execution_count": 13,
   "id": "c5c7d567-702f-4c56-bbf5-39e1ec145268",
   "metadata": {},
   "outputs": [
    {
     "data": {
      "text/latex": [
       "$\\displaystyle \\left[\\begin{array}{cccccccccccc}0 & 0 & 0 & 0 & 0 & 0 & 1 & 0 & 0 & 0 & 0 & 0\\\\0 & 0 & 0 & 0 & 0 & 0 & 0 & 1 & 0 & 0 & 0 & 0\\\\0 & 0 & 0 & 0 & 0 & 0 & 0 & 0 & 1 & 0 & 0 & 0\\\\0 & 0 & 0 & 0 & 0 & 0 & 0 & 0 & 0 & 1 & 0 & 0\\\\0 & 0 & 0 & 0 & 0 & 0 & 0 & 0 & 0 & 0 & 1 & 0\\\\0 & 0 & 0 & 0 & 0 & 0 & 0 & 0 & 0 & 0 & 0 & 1\\\\0 & 0 & 0 & 0 & 9.81 & 0 & 0 & 0 & 0 & 0 & 0 & 0\\\\0 & 0 & 0 & -9.81 & 0 & 0 & 0 & 0 & 0 & 0 & 0 & 0\\\\0 & 0 & 0 & 0 & 0 & 0 & 0 & 0 & 0 & 0 & 0 & 0\\\\0 & 0 & 0 & 0 & 0 & 0 & 0 & 0 & 0 & 0 & 0 & 0\\\\0 & 0 & 0 & 0 & 0 & 0 & 0 & 0 & 0 & 0 & 0 & 0\\\\0 & 0 & 0 & 0 & 0 & 0 & 0 & 0 & 0 & 0 & 0 & 0\\end{array}\\right]$"
      ],
      "text/plain": [
       "Matrix([\n",
       "[0, 0, 0,     0,    0, 0, 1, 0, 0, 0, 0, 0],\n",
       "[0, 0, 0,     0,    0, 0, 0, 1, 0, 0, 0, 0],\n",
       "[0, 0, 0,     0,    0, 0, 0, 0, 1, 0, 0, 0],\n",
       "[0, 0, 0,     0,    0, 0, 0, 0, 0, 1, 0, 0],\n",
       "[0, 0, 0,     0,    0, 0, 0, 0, 0, 0, 1, 0],\n",
       "[0, 0, 0,     0,    0, 0, 0, 0, 0, 0, 0, 1],\n",
       "[0, 0, 0,     0, 9.81, 0, 0, 0, 0, 0, 0, 0],\n",
       "[0, 0, 0, -9.81,    0, 0, 0, 0, 0, 0, 0, 0],\n",
       "[0, 0, 0,     0,    0, 0, 0, 0, 0, 0, 0, 0],\n",
       "[0, 0, 0,     0,    0, 0, 0, 0, 0, 0, 0, 0],\n",
       "[0, 0, 0,     0,    0, 0, 0, 0, 0, 0, 0, 0],\n",
       "[0, 0, 0,     0,    0, 0, 0, 0, 0, 0, 0, 0]])"
      ]
     },
     "execution_count": 13,
     "metadata": {},
     "output_type": "execute_result"
    }
   ],
   "source": [
    "A.subs([(x,0),(y,0),(z,0),\n",
    "        (phi,0),(theta,0),(psi,0),\n",
    "        (x_dot,0),(y_dot,0),(z_dot,0),\n",
    "        (p,0),(q,0),(r,0),\n",
    "        (u1,m*g),(u2,0),(u3,0),(u4,0),\n",
    "        (m,0.03),(g,9.81),(Ixx,1.4194*(10**-5)),(Iyy,1.4089*(10**-5)),(Izz,2.9741*(10**-5))])"
   ]
  },
  {
   "cell_type": "code",
   "execution_count": 14,
   "id": "ac95f06d-d828-43b6-8cbc-92dfdcf03a80",
   "metadata": {},
   "outputs": [
    {
     "data": {
      "text/latex": [
       "$\\displaystyle \\left[\\begin{matrix}0 & 0 & 0 & 0\\\\0 & 0 & 0 & 0\\\\0 & 0 & 0 & 0\\\\0 & 0 & 0 & 0\\\\0 & 0 & 0 & 0\\\\0 & 0 & 0 & 0\\\\0 & 0 & 0 & 0\\\\0 & 0 & 0 & 0\\\\33.3333333333333 & 0 & 0 & 0\\\\0 & 70452.3037903339 & 0 & 0\\\\0 & 0 & 70977.3582227269 & 0\\\\0 & 0 & 0 & 33623.6172287415\\end{matrix}\\right]$"
      ],
      "text/plain": [
       "Matrix([\n",
       "[               0,                0,                0,                0],\n",
       "[               0,                0,                0,                0],\n",
       "[               0,                0,                0,                0],\n",
       "[               0,                0,                0,                0],\n",
       "[               0,                0,                0,                0],\n",
       "[               0,                0,                0,                0],\n",
       "[               0,                0,                0,                0],\n",
       "[               0,                0,                0,                0],\n",
       "[33.3333333333333,                0,                0,                0],\n",
       "[               0, 70452.3037903339,                0,                0],\n",
       "[               0,                0, 70977.3582227269,                0],\n",
       "[               0,                0,                0, 33623.6172287415]])"
      ]
     },
     "execution_count": 14,
     "metadata": {},
     "output_type": "execute_result"
    }
   ],
   "source": [
    "B.subs([(x,0),(y,0),(z,0),\n",
    "        (phi,0),(theta,0),(psi,0),\n",
    "        (x_dot,0),(y_dot,0),(z_dot,0),\n",
    "        (p,0),(q,0),(r,0),\n",
    "        (u1,m*g),(u2,0),(u3,0),(u4,0),\n",
    "        (m,0.03),(g,9.81),(Ixx,1.4194*(10**-5)),(Iyy,1.4089*(10**-5)),(Izz,2.9741*(10**-5))])"
   ]
  },
  {
   "cell_type": "code",
   "execution_count": 15,
   "id": "139fa472-3657-44f3-96c5-43478b4cc940",
   "metadata": {},
   "outputs": [],
   "source": [
    "A_arr=np.array(A.subs([(x,0),(y,0),(z,0),\n",
    "        (phi,0),(theta,0),(psi,0),\n",
    "        (x_dot,0),(y_dot,0),(z_dot,0),\n",
    "        (p,0),(q,0),(r,0),\n",
    "        (u1,m*g),(u2,0),(u3,0),(u4,0),\n",
    "        (m,0.03),(g,9.81),(Ixx,1.4194*(10**-5)),(Iyy,1.4089*(10**-5)),(Izz,2.9741*(10**-5))])).astype(float)\n",
    "B_arr=np.array(B.subs([(x,0),(y,0),(z,0),\n",
    "        (phi,0),(theta,0),(psi,0),\n",
    "        (x_dot,0),(y_dot,0),(z_dot,0),\n",
    "        (p,0),(q,0),(r,0),\n",
    "        (u1,m*g),(u2,0),(u3,0),(u4,0),\n",
    "        (m,0.03),(g,9.81),(Ixx,1.4194*(10**-5)),(Iyy,1.4089*(10**-5)),(Izz,2.9741*(10**-5))])).astype(float)"
   ]
  },
  {
   "cell_type": "code",
   "execution_count": 16,
   "id": "c79fc957-1808-4bde-ae83-f9fcac043ccc",
   "metadata": {},
   "outputs": [
    {
     "name": "stdout",
     "output_type": "stream",
     "text": [
      "[[ 0.    0.    0.    0.    0.    0.    1.    0.    0.    0.    0.    0.  ]\n",
      " [ 0.    0.    0.    0.    0.    0.    0.    1.    0.    0.    0.    0.  ]\n",
      " [ 0.    0.    0.    0.    0.    0.    0.    0.    1.    0.    0.    0.  ]\n",
      " [ 0.    0.    0.    0.    0.    0.    0.    0.    0.    1.    0.    0.  ]\n",
      " [ 0.    0.    0.    0.    0.    0.    0.    0.    0.    0.    1.    0.  ]\n",
      " [ 0.    0.    0.    0.    0.    0.    0.    0.    0.    0.    0.    1.  ]\n",
      " [ 0.    0.    0.    0.    9.81  0.    0.    0.    0.    0.    0.    0.  ]\n",
      " [ 0.    0.    0.   -9.81  0.    0.    0.    0.    0.    0.    0.    0.  ]\n",
      " [ 0.    0.    0.    0.    0.    0.    0.    0.    0.    0.    0.    0.  ]\n",
      " [ 0.    0.    0.    0.    0.    0.    0.    0.    0.    0.    0.    0.  ]\n",
      " [ 0.    0.    0.    0.    0.    0.    0.    0.    0.    0.    0.    0.  ]\n",
      " [ 0.    0.    0.    0.    0.    0.    0.    0.    0.    0.    0.    0.  ]]\n",
      "\n",
      "[[0.00000000e+00 0.00000000e+00 0.00000000e+00 0.00000000e+00]\n",
      " [0.00000000e+00 0.00000000e+00 0.00000000e+00 0.00000000e+00]\n",
      " [0.00000000e+00 0.00000000e+00 0.00000000e+00 0.00000000e+00]\n",
      " [0.00000000e+00 0.00000000e+00 0.00000000e+00 0.00000000e+00]\n",
      " [0.00000000e+00 0.00000000e+00 0.00000000e+00 0.00000000e+00]\n",
      " [0.00000000e+00 0.00000000e+00 0.00000000e+00 0.00000000e+00]\n",
      " [0.00000000e+00 0.00000000e+00 0.00000000e+00 0.00000000e+00]\n",
      " [0.00000000e+00 0.00000000e+00 0.00000000e+00 0.00000000e+00]\n",
      " [3.33333333e+01 0.00000000e+00 0.00000000e+00 0.00000000e+00]\n",
      " [0.00000000e+00 7.04523038e+04 0.00000000e+00 0.00000000e+00]\n",
      " [0.00000000e+00 0.00000000e+00 7.09773582e+04 0.00000000e+00]\n",
      " [0.00000000e+00 0.00000000e+00 0.00000000e+00 3.36236172e+04]]\n"
     ]
    }
   ],
   "source": [
    "print(A_arr)\n",
    "print()\n",
    "print(B_arr)"
   ]
  },
  {
   "cell_type": "code",
   "execution_count": 17,
   "id": "86b7879e-2876-4cf6-aa1e-cbbe9b6d0212",
   "metadata": {},
   "outputs": [],
   "source": [
    "A=A_arr\n",
    "B=B_arr"
   ]
  },
  {
   "cell_type": "code",
   "execution_count": 18,
   "id": "8c473879-d4de-4fbf-90de-3a78fde2a9d2",
   "metadata": {},
   "outputs": [],
   "source": [
    "Q=np.eye(12)\n",
    "R=np.eye(4)"
   ]
  },
  {
   "cell_type": "code",
   "execution_count": 19,
   "id": "3c7cc575-6f86-465c-887c-173305d85638",
   "metadata": {},
   "outputs": [
    {
     "name": "stdout",
     "output_type": "stream",
     "text": [
      "[[ 1.45153773e+00  0.00000000e+00  5.34068720e-18  0.00000000e+00\n",
      "   1.00007650e+00  0.00000000e+00  5.53480890e-01  0.00000000e+00\n",
      "   6.93763476e-17  0.00000000e+00  1.40890000e-05  0.00000000e+00]\n",
      " [ 0.00000000e+00  1.45153783e+00  0.00000000e+00 -1.00007707e+00\n",
      "   0.00000000e+00  1.03563319e-15  0.00000000e+00  5.53481043e-01\n",
      "   0.00000000e+00 -1.41940000e-05  0.00000000e+00 -5.21636091e-18]\n",
      " [ 5.34068720e-18  0.00000000e+00  1.02956301e+00  0.00000000e+00\n",
      "  -2.64361295e-17  0.00000000e+00 -1.62647194e-17  0.00000000e+00\n",
      "   3.00000000e-02  0.00000000e+00 -6.31747351e-19  0.00000000e+00]\n",
      " [ 0.00000000e+00 -1.00007707e+00  0.00000000e+00  5.42986535e+00\n",
      "   0.00000000e+00 -2.38700374e-15  0.00000000e+00 -1.45163550e+00\n",
      "   0.00000000e+00  7.70684383e-05  0.00000000e+00  5.78460458e-18]\n",
      " [ 1.00007650e+00  0.00000000e+00 -2.64361295e-17  0.00000000e+00\n",
      "   5.42986226e+00  0.00000000e+00  1.45163468e+00  0.00000000e+00\n",
      "   7.55915132e-17  0.00000000e+00  7.64983041e-05  0.00000000e+00]\n",
      " [ 0.00000000e+00  1.03563319e-15  0.00000000e+00 -2.38700374e-15\n",
      "   0.00000000e+00  1.00002974e+00  0.00000000e+00  5.58659793e-16\n",
      "   0.00000000e+00 -3.38840714e-20  0.00000000e+00  2.97410000e-05]\n",
      " [ 5.53480890e-01  0.00000000e+00 -1.62647194e-17  0.00000000e+00\n",
      "   1.45163468e+00  0.00000000e+00  7.01453798e-01  0.00000000e+00\n",
      "   3.86174911e-17  0.00000000e+00  2.04507151e-05  0.00000000e+00]\n",
      " [ 0.00000000e+00  5.53481043e-01  0.00000000e+00 -1.45163550e+00\n",
      "   0.00000000e+00  5.58659793e-16  0.00000000e+00  7.01454020e-01\n",
      "   0.00000000e+00 -2.06031280e-05  0.00000000e+00 -1.98866205e-18]\n",
      " [ 6.93763476e-17  0.00000000e+00  3.00000000e-02  0.00000000e+00\n",
      "   7.55915132e-17  0.00000000e+00  3.86174911e-17  0.00000000e+00\n",
      "   3.08868904e-02  0.00000000e+00 -1.71646655e-20  0.00000000e+00]\n",
      " [ 0.00000000e+00 -1.41940000e-05  0.00000000e+00  7.70684383e-05\n",
      "   0.00000000e+00 -3.38840714e-20  0.00000000e+00 -2.06031280e-05\n",
      "   0.00000000e+00  1.41950939e-05  0.00000000e+00  9.79653665e-23]\n",
      " [ 1.40890000e-05  0.00000000e+00 -6.31747351e-19  0.00000000e+00\n",
      "   7.64983041e-05  0.00000000e+00  2.04507151e-05  0.00000000e+00\n",
      "  -1.71646655e-20  0.00000000e+00  1.40900777e-05  0.00000000e+00]\n",
      " [ 0.00000000e+00 -5.21636091e-18  0.00000000e+00  5.78460458e-18\n",
      "   0.00000000e+00  2.97410000e-05  0.00000000e+00 -1.98866205e-18\n",
      "   0.00000000e+00  9.79653665e-23  0.00000000e+00  2.97418845e-05]]\n"
     ]
    }
   ],
   "source": [
    "Ks=solve_continuous_are(A,B,Q,R)\n",
    "print(Ks)"
   ]
  },
  {
   "cell_type": "code",
   "execution_count": 20,
   "id": "0aada355-fe77-47a1-99a7-d0b41b77a093",
   "metadata": {},
   "outputs": [
    {
     "ename": "ValueError",
     "evalue": "object arrays are not supported",
     "output_type": "error",
     "traceback": [
      "\u001b[1;31m---------------------------------------------------------------------------\u001b[0m",
      "\u001b[1;31mValueError\u001b[0m                                Traceback (most recent call last)",
      "\u001b[1;32m~\\AppData\\Local\\Temp\\ipykernel_16836\\3769186511.py\u001b[0m in \u001b[0;36m<module>\u001b[1;34m\u001b[0m\n\u001b[1;32m----> 1\u001b[1;33m \u001b[0mA\u001b[0m\u001b[1;33m,\u001b[0m \u001b[0mB\u001b[0m\u001b[1;33m,\u001b[0m \u001b[0mK\u001b[0m \u001b[1;33m=\u001b[0m \u001b[0minitialize_quadrotor\u001b[0m\u001b[1;33m(\u001b[0m\u001b[0mnp\u001b[0m\u001b[1;33m.\u001b[0m\u001b[0meye\u001b[0m\u001b[1;33m(\u001b[0m\u001b[1;36m12\u001b[0m\u001b[1;33m)\u001b[0m\u001b[1;33m,\u001b[0m \u001b[0mnp\u001b[0m\u001b[1;33m.\u001b[0m\u001b[0meye\u001b[0m\u001b[1;33m(\u001b[0m\u001b[1;36m4\u001b[0m\u001b[1;33m)\u001b[0m\u001b[1;33m)\u001b[0m\u001b[1;33m\u001b[0m\u001b[1;33m\u001b[0m\u001b[0m\n\u001b[0m\u001b[0;32m      2\u001b[0m \u001b[0mtrajectory\u001b[0m\u001b[1;33m,\u001b[0m \u001b[0mcontrol_inputs\u001b[0m \u001b[1;33m=\u001b[0m \u001b[0msimulate_quadrotor\u001b[0m\u001b[1;33m(\u001b[0m\u001b[0mA\u001b[0m\u001b[1;33m,\u001b[0m \u001b[0mB\u001b[0m\u001b[1;33m,\u001b[0m \u001b[0mK\u001b[0m\u001b[1;33m,\u001b[0m \u001b[1;36m1\u001b[0m\u001b[1;33m,\u001b[0m \u001b[1;36m0.1\u001b[0m\u001b[1;33m)\u001b[0m\u001b[1;33m\u001b[0m\u001b[1;33m\u001b[0m\u001b[0m\n",
      "\u001b[1;32m~\\AppData\\Local\\Temp\\ipykernel_16836\\4030342248.py\u001b[0m in \u001b[0;36minitialize_quadrotor\u001b[1;34m(Q, R)\u001b[0m\n\u001b[0;32m     34\u001b[0m     \u001b[0mB\u001b[0m\u001b[1;33m=\u001b[0m\u001b[0mdynamics\u001b[0m\u001b[1;33m.\u001b[0m\u001b[0mjacobian\u001b[0m\u001b[1;33m(\u001b[0m\u001b[0minput\u001b[0m\u001b[1;33m)\u001b[0m\u001b[1;33m\u001b[0m\u001b[1;33m\u001b[0m\u001b[0m\n\u001b[0;32m     35\u001b[0m \u001b[1;33m\u001b[0m\u001b[0m\n\u001b[1;32m---> 36\u001b[1;33m     \u001b[0mK\u001b[0m \u001b[1;33m=\u001b[0m \u001b[0mlqr_controller\u001b[0m\u001b[1;33m(\u001b[0m\u001b[0mA\u001b[0m\u001b[1;33m,\u001b[0m \u001b[0mB\u001b[0m\u001b[1;33m,\u001b[0m \u001b[0mQ\u001b[0m\u001b[1;33m,\u001b[0m \u001b[0mR\u001b[0m\u001b[1;33m)\u001b[0m\u001b[1;33m\u001b[0m\u001b[1;33m\u001b[0m\u001b[0m\n\u001b[0m\u001b[0;32m     37\u001b[0m \u001b[1;33m\u001b[0m\u001b[0m\n\u001b[0;32m     38\u001b[0m     \u001b[1;32mreturn\u001b[0m \u001b[0mA\u001b[0m\u001b[1;33m,\u001b[0m \u001b[0mB\u001b[0m\u001b[1;33m,\u001b[0m \u001b[0mK\u001b[0m\u001b[1;33m\u001b[0m\u001b[1;33m\u001b[0m\u001b[0m\n",
      "\u001b[1;32m~\\AppData\\Local\\Temp\\ipykernel_16836\\2519449357.py\u001b[0m in \u001b[0;36mlqr_controller\u001b[1;34m(A, B, Q, R)\u001b[0m\n\u001b[0;32m     21\u001b[0m \u001b[1;33m\u001b[0m\u001b[0m\n\u001b[0;32m     22\u001b[0m     \u001b[1;31m# Compute control gains using LQR\u001b[0m\u001b[1;33m\u001b[0m\u001b[1;33m\u001b[0m\u001b[1;33m\u001b[0m\u001b[0m\n\u001b[1;32m---> 23\u001b[1;33m     \u001b[0mK\u001b[0m \u001b[1;33m=\u001b[0m \u001b[0msolve_continuous_are\u001b[0m\u001b[1;33m(\u001b[0m\u001b[0mA_arr\u001b[0m\u001b[1;33m,\u001b[0m \u001b[0mB_arr\u001b[0m\u001b[1;33m,\u001b[0m \u001b[0mQ\u001b[0m\u001b[1;33m,\u001b[0m \u001b[0mR\u001b[0m\u001b[1;33m)\u001b[0m\u001b[1;33m\u001b[0m\u001b[1;33m\u001b[0m\u001b[0m\n\u001b[0m\u001b[0;32m     24\u001b[0m \u001b[1;33m\u001b[0m\u001b[0m\n\u001b[0;32m     25\u001b[0m     \u001b[1;32mreturn\u001b[0m \u001b[0mK\u001b[0m\u001b[1;33m\u001b[0m\u001b[1;33m\u001b[0m\u001b[0m\n",
      "\u001b[1;32m~\\anaconda3\\envs\\mae345\\lib\\site-packages\\scipy\\linalg\\_solvers.py\u001b[0m in \u001b[0;36msolve_continuous_are\u001b[1;34m(a, b, q, r, e, s, balanced)\u001b[0m\n\u001b[0;32m    443\u001b[0m     \u001b[1;31m# Validate input arguments\u001b[0m\u001b[1;33m\u001b[0m\u001b[1;33m\u001b[0m\u001b[1;33m\u001b[0m\u001b[0m\n\u001b[0;32m    444\u001b[0m     a, b, q, r, e, s, m, n, r_or_c, gen_are = _are_validate_args(\n\u001b[1;32m--> 445\u001b[1;33m                                                      a, b, q, r, e, s, 'care')\n\u001b[0m\u001b[0;32m    446\u001b[0m \u001b[1;33m\u001b[0m\u001b[0m\n\u001b[0;32m    447\u001b[0m     \u001b[0mH\u001b[0m \u001b[1;33m=\u001b[0m \u001b[0mnp\u001b[0m\u001b[1;33m.\u001b[0m\u001b[0mempty\u001b[0m\u001b[1;33m(\u001b[0m\u001b[1;33m(\u001b[0m\u001b[1;36m2\u001b[0m\u001b[1;33m*\u001b[0m\u001b[0mm\u001b[0m\u001b[1;33m+\u001b[0m\u001b[0mn\u001b[0m\u001b[1;33m,\u001b[0m \u001b[1;36m2\u001b[0m\u001b[1;33m*\u001b[0m\u001b[0mm\u001b[0m\u001b[1;33m+\u001b[0m\u001b[0mn\u001b[0m\u001b[1;33m)\u001b[0m\u001b[1;33m,\u001b[0m \u001b[0mdtype\u001b[0m\u001b[1;33m=\u001b[0m\u001b[0mr_or_c\u001b[0m\u001b[1;33m)\u001b[0m\u001b[1;33m\u001b[0m\u001b[1;33m\u001b[0m\u001b[0m\n",
      "\u001b[1;32m~\\anaconda3\\envs\\mae345\\lib\\site-packages\\scipy\\linalg\\_solvers.py\u001b[0m in \u001b[0;36m_are_validate_args\u001b[1;34m(a, b, q, r, e, s, eq_type)\u001b[0m\n\u001b[0;32m    778\u001b[0m                          \"Only 'care' and 'dare' is understood\")\n\u001b[0;32m    779\u001b[0m \u001b[1;33m\u001b[0m\u001b[0m\n\u001b[1;32m--> 780\u001b[1;33m     \u001b[0ma\u001b[0m \u001b[1;33m=\u001b[0m \u001b[0mnp\u001b[0m\u001b[1;33m.\u001b[0m\u001b[0matleast_2d\u001b[0m\u001b[1;33m(\u001b[0m\u001b[0m_asarray_validated\u001b[0m\u001b[1;33m(\u001b[0m\u001b[0ma\u001b[0m\u001b[1;33m,\u001b[0m \u001b[0mcheck_finite\u001b[0m\u001b[1;33m=\u001b[0m\u001b[1;32mTrue\u001b[0m\u001b[1;33m)\u001b[0m\u001b[1;33m)\u001b[0m\u001b[1;33m\u001b[0m\u001b[1;33m\u001b[0m\u001b[0m\n\u001b[0m\u001b[0;32m    781\u001b[0m     \u001b[0mb\u001b[0m \u001b[1;33m=\u001b[0m \u001b[0mnp\u001b[0m\u001b[1;33m.\u001b[0m\u001b[0matleast_2d\u001b[0m\u001b[1;33m(\u001b[0m\u001b[0m_asarray_validated\u001b[0m\u001b[1;33m(\u001b[0m\u001b[0mb\u001b[0m\u001b[1;33m,\u001b[0m \u001b[0mcheck_finite\u001b[0m\u001b[1;33m=\u001b[0m\u001b[1;32mTrue\u001b[0m\u001b[1;33m)\u001b[0m\u001b[1;33m)\u001b[0m\u001b[1;33m\u001b[0m\u001b[1;33m\u001b[0m\u001b[0m\n\u001b[0;32m    782\u001b[0m     \u001b[0mq\u001b[0m \u001b[1;33m=\u001b[0m \u001b[0mnp\u001b[0m\u001b[1;33m.\u001b[0m\u001b[0matleast_2d\u001b[0m\u001b[1;33m(\u001b[0m\u001b[0m_asarray_validated\u001b[0m\u001b[1;33m(\u001b[0m\u001b[0mq\u001b[0m\u001b[1;33m,\u001b[0m \u001b[0mcheck_finite\u001b[0m\u001b[1;33m=\u001b[0m\u001b[1;32mTrue\u001b[0m\u001b[1;33m)\u001b[0m\u001b[1;33m)\u001b[0m\u001b[1;33m\u001b[0m\u001b[1;33m\u001b[0m\u001b[0m\n",
      "\u001b[1;32m~\\anaconda3\\envs\\mae345\\lib\\site-packages\\scipy\\_lib\\_util.py\u001b[0m in \u001b[0;36m_asarray_validated\u001b[1;34m(a, check_finite, sparse_ok, objects_ok, mask_ok, as_inexact)\u001b[0m\n\u001b[0;32m    264\u001b[0m     \u001b[1;32mif\u001b[0m \u001b[1;32mnot\u001b[0m \u001b[0mobjects_ok\u001b[0m\u001b[1;33m:\u001b[0m\u001b[1;33m\u001b[0m\u001b[1;33m\u001b[0m\u001b[0m\n\u001b[0;32m    265\u001b[0m         \u001b[1;32mif\u001b[0m \u001b[0ma\u001b[0m\u001b[1;33m.\u001b[0m\u001b[0mdtype\u001b[0m \u001b[1;32mis\u001b[0m \u001b[0mnp\u001b[0m\u001b[1;33m.\u001b[0m\u001b[0mdtype\u001b[0m\u001b[1;33m(\u001b[0m\u001b[1;34m'O'\u001b[0m\u001b[1;33m)\u001b[0m\u001b[1;33m:\u001b[0m\u001b[1;33m\u001b[0m\u001b[1;33m\u001b[0m\u001b[0m\n\u001b[1;32m--> 266\u001b[1;33m             \u001b[1;32mraise\u001b[0m \u001b[0mValueError\u001b[0m\u001b[1;33m(\u001b[0m\u001b[1;34m'object arrays are not supported'\u001b[0m\u001b[1;33m)\u001b[0m\u001b[1;33m\u001b[0m\u001b[1;33m\u001b[0m\u001b[0m\n\u001b[0m\u001b[0;32m    267\u001b[0m     \u001b[1;32mif\u001b[0m \u001b[0mas_inexact\u001b[0m\u001b[1;33m:\u001b[0m\u001b[1;33m\u001b[0m\u001b[1;33m\u001b[0m\u001b[0m\n\u001b[0;32m    268\u001b[0m         \u001b[1;32mif\u001b[0m \u001b[1;32mnot\u001b[0m \u001b[0mnp\u001b[0m\u001b[1;33m.\u001b[0m\u001b[0missubdtype\u001b[0m\u001b[1;33m(\u001b[0m\u001b[0ma\u001b[0m\u001b[1;33m.\u001b[0m\u001b[0mdtype\u001b[0m\u001b[1;33m,\u001b[0m \u001b[0mnp\u001b[0m\u001b[1;33m.\u001b[0m\u001b[0minexact\u001b[0m\u001b[1;33m)\u001b[0m\u001b[1;33m:\u001b[0m\u001b[1;33m\u001b[0m\u001b[1;33m\u001b[0m\u001b[0m\n",
      "\u001b[1;31mValueError\u001b[0m: object arrays are not supported"
     ]
    }
   ],
   "source": [
    "A, B, K = initialize_quadrotor(np.eye(12), np.eye(4))   \n",
    "trajectory, control_inputs = simulate_quadrotor(A, B, K, 1, 0.1)"
   ]
  }
 ],
 "metadata": {
  "kernelspec": {
   "display_name": "Python 3 (ipykernel)",
   "language": "python",
   "name": "python3"
  },
  "language_info": {
   "codemirror_mode": {
    "name": "ipython",
    "version": 3
   },
   "file_extension": ".py",
   "mimetype": "text/x-python",
   "name": "python",
   "nbconvert_exporter": "python",
   "pygments_lexer": "ipython3",
   "version": "3.7.16"
  }
 },
 "nbformat": 4,
 "nbformat_minor": 5
}
